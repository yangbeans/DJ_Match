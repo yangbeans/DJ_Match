{
 "cells": [
  {
   "cell_type": "code",
   "execution_count": 1,
   "metadata": {},
   "outputs": [],
   "source": [
    "import pandas as pd\n",
    "import numpy as np"
   ]
  },
  {
   "cell_type": "code",
   "execution_count": 2,
   "metadata": {},
   "outputs": [],
   "source": [
    "user_info = pd.read_csv('data/jdata_user_basic_info.csv')\n",
    "sku_info = pd.read_csv('data/jdata_sku_basic_info.csv')\n",
    "user_action = pd.read_csv('data/jdata_user_action.csv', parse_dates=['a_date'])\n",
    "user_order = pd.read_csv('data/jdata_user_order.csv', parse_dates=['o_date'])\n",
    "user_comment = pd.read_csv('data/jdata_user_comment_score.csv', parse_dates=['comment_create_tm'])"
   ]
  },
  {
   "cell_type": "code",
   "execution_count": 3,
   "metadata": {},
   "outputs": [
    {
     "data": {
      "text/html": [
       "<div>\n",
       "<style scoped>\n",
       "    .dataframe tbody tr th:only-of-type {\n",
       "        vertical-align: middle;\n",
       "    }\n",
       "\n",
       "    .dataframe tbody tr th {\n",
       "        vertical-align: top;\n",
       "    }\n",
       "\n",
       "    .dataframe thead th {\n",
       "        text-align: right;\n",
       "    }\n",
       "</style>\n",
       "<table border=\"1\" class=\"dataframe\">\n",
       "  <thead>\n",
       "    <tr style=\"text-align: right;\">\n",
       "      <th></th>\n",
       "      <th>user_id</th>\n",
       "      <th>age</th>\n",
       "      <th>sex</th>\n",
       "      <th>user_lv_cd</th>\n",
       "    </tr>\n",
       "  </thead>\n",
       "  <tbody>\n",
       "    <tr>\n",
       "      <th>0</th>\n",
       "      <td>1</td>\n",
       "      <td>3</td>\n",
       "      <td>2</td>\n",
       "      <td>3</td>\n",
       "    </tr>\n",
       "    <tr>\n",
       "      <th>1</th>\n",
       "      <td>2</td>\n",
       "      <td>3</td>\n",
       "      <td>2</td>\n",
       "      <td>3</td>\n",
       "    </tr>\n",
       "    <tr>\n",
       "      <th>2</th>\n",
       "      <td>3</td>\n",
       "      <td>3</td>\n",
       "      <td>0</td>\n",
       "      <td>5</td>\n",
       "    </tr>\n",
       "    <tr>\n",
       "      <th>3</th>\n",
       "      <td>4</td>\n",
       "      <td>3</td>\n",
       "      <td>2</td>\n",
       "      <td>3</td>\n",
       "    </tr>\n",
       "    <tr>\n",
       "      <th>4</th>\n",
       "      <td>5</td>\n",
       "      <td>4</td>\n",
       "      <td>2</td>\n",
       "      <td>2</td>\n",
       "    </tr>\n",
       "  </tbody>\n",
       "</table>\n",
       "</div>"
      ],
      "text/plain": [
       "   user_id  age  sex  user_lv_cd\n",
       "0        1    3    2           3\n",
       "1        2    3    2           3\n",
       "2        3    3    0           5\n",
       "3        4    3    2           3\n",
       "4        5    4    2           2"
      ]
     },
     "execution_count": 3,
     "metadata": {},
     "output_type": "execute_result"
    }
   ],
   "source": [
    "user_info.head()"
   ]
  },
  {
   "cell_type": "markdown",
   "metadata": {},
   "source": [
    "## 观察数据情况\n",
    "### （1）缺失情况 （2）分布情况 *（3）与标签值的关联情况"
   ]
  },
  {
   "cell_type": "markdown",
   "metadata": {},
   "source": [
    "### （1）缺失情况"
   ]
  },
  {
   "cell_type": "code",
   "execution_count": 4,
   "metadata": {},
   "outputs": [
    {
     "name": "stdout",
     "output_type": "stream",
     "text": [
      "唯一user_id个数 98924\n",
      "唯一sku_id个数 99412\n",
      "shape of user_action (6944141, 5)\n",
      "shape of user_order (792723, 6)\n",
      "shape of user_comment (224284, 4)\n",
      "user_action数据集中唯一user_id个数： 93453 \n",
      " user_action数据集中唯一sku_id个数： 99133\n",
      "user_order数据集中唯一user_id个数： 98924 \n",
      " user_order数据集中唯一sku_id个数： 25474\n",
      "user_comment数据集中唯一user_id个数： 42191\n"
     ]
    }
   ],
   "source": [
    "print(\"唯一user_id个数\",user_info[\"user_id\"].nunique())\n",
    "print(\"唯一sku_id个数\",sku_info[\"sku_id\"].nunique())\n",
    "print(\"shape of user_action\", user_action.shape)\n",
    "print(\"shape of user_order\", user_order.shape)\n",
    "print(\"shape of user_comment\", user_comment.shape)\n",
    "\n",
    "print(\"user_action数据集中唯一user_id个数：\", user_action[\"user_id\"].nunique(),\"\\n\", \"user_action数据集中唯一sku_id个数：\", user_action[\"sku_id\"].nunique())\n",
    "print(\"user_order数据集中唯一user_id个数：\", user_order[\"user_id\"].nunique(),\"\\n\", \"user_order数据集中唯一sku_id个数：\", user_order[\"sku_id\"].nunique())\n",
    "print(\"user_comment数据集中唯一user_id个数：\", user_comment[\"user_id\"].nunique())"
   ]
  },
  {
   "cell_type": "code",
   "execution_count": 5,
   "metadata": {},
   "outputs": [
    {
     "data": {
      "text/plain": [
       "array([ 71,  46,  83, 101,   1,  30], dtype=int64)"
      ]
     },
     "execution_count": 5,
     "metadata": {},
     "output_type": "execute_result"
    }
   ],
   "source": [
    "sku_info[\"cate\"].unique()"
   ]
  },
  {
   "cell_type": "code",
   "execution_count": 6,
   "metadata": {},
   "outputs": [
    {
     "data": {
      "text/plain": [
       "0.42440550436567015"
      ]
     },
     "execution_count": 6,
     "metadata": {},
     "output_type": "execute_result"
    }
   ],
   "source": [
    "42191/99412"
   ]
  },
  {
   "cell_type": "raw",
   "metadata": {},
   "source": [
    "结论：\n",
    "user_action数据集中包含基本所有唯一user_id、sku_id； \n",
    "user_order数据集中基本包含所有user_id，有约25.6%的sku_id；\n",
    "user_comment数据集中包含约42.4%的user_id."
   ]
  },
  {
   "cell_type": "code",
   "execution_count": 7,
   "metadata": {},
   "outputs": [],
   "source": [
    "def missingValues(data, fea, val):\n",
    "    return data[data[fea]==-1].shape[0]/data.shape[0]"
   ]
  },
  {
   "cell_type": "code",
   "execution_count": 8,
   "metadata": {},
   "outputs": [
    {
     "name": "stdout",
     "output_type": "stream",
     "text": [
      "数据缺失情况：\n",
      " user_id       0\n",
      "age           0\n",
      "sex           0\n",
      "user_lv_cd    0\n",
      "dtype: int64\n"
     ]
    }
   ],
   "source": [
    "#user_info，sku_info属性的缺失情况\n",
    "print(\"数据缺失情况：\\n\", user_info.isnull().sum())"
   ]
  },
  {
   "cell_type": "code",
   "execution_count": 9,
   "metadata": {},
   "outputs": [
    {
     "data": {
      "text/plain": [
       "0.24903966681492865"
      ]
     },
     "execution_count": 9,
     "metadata": {},
     "output_type": "execute_result"
    }
   ],
   "source": [
    "missingValues(user_info, \"age\", -1)"
   ]
  },
  {
   "cell_type": "code",
   "execution_count": 10,
   "metadata": {},
   "outputs": [
    {
     "data": {
      "text/plain": [
       "0.8101335854826379"
      ]
     },
     "execution_count": 10,
     "metadata": {},
     "output_type": "execute_result"
    }
   ],
   "source": [
    "missingValues(sku_info, \"para_3\", -1)"
   ]
  },
  {
   "cell_type": "raw",
   "metadata": {},
   "source": [
    "结论：user_info数据集中年龄缺失情况约为24.9%； sku_info数据集中para_2缺失情况约为75.5%，para_3缺失情况约为81%"
   ]
  },
  {
   "cell_type": "code",
   "execution_count": 11,
   "metadata": {},
   "outputs": [
    {
     "data": {
      "text/html": [
       "<div>\n",
       "<style scoped>\n",
       "    .dataframe tbody tr th:only-of-type {\n",
       "        vertical-align: middle;\n",
       "    }\n",
       "\n",
       "    .dataframe tbody tr th {\n",
       "        vertical-align: top;\n",
       "    }\n",
       "\n",
       "    .dataframe thead th {\n",
       "        text-align: right;\n",
       "    }\n",
       "</style>\n",
       "<table border=\"1\" class=\"dataframe\">\n",
       "  <thead>\n",
       "    <tr style=\"text-align: right;\">\n",
       "      <th></th>\n",
       "      <th>sku_id</th>\n",
       "      <th>price</th>\n",
       "      <th>cate</th>\n",
       "      <th>para_1</th>\n",
       "      <th>para_2</th>\n",
       "      <th>para_3</th>\n",
       "    </tr>\n",
       "  </thead>\n",
       "  <tbody>\n",
       "    <tr>\n",
       "      <th>0</th>\n",
       "      <td>1</td>\n",
       "      <td>364.2</td>\n",
       "      <td>71</td>\n",
       "      <td>247.95</td>\n",
       "      <td>-1</td>\n",
       "      <td>-1</td>\n",
       "    </tr>\n",
       "    <tr>\n",
       "      <th>1</th>\n",
       "      <td>2</td>\n",
       "      <td>36.7</td>\n",
       "      <td>46</td>\n",
       "      <td>6.40</td>\n",
       "      <td>-1</td>\n",
       "      <td>-1</td>\n",
       "    </tr>\n",
       "    <tr>\n",
       "      <th>2</th>\n",
       "      <td>3</td>\n",
       "      <td>953.3</td>\n",
       "      <td>71</td>\n",
       "      <td>178.92</td>\n",
       "      <td>-1</td>\n",
       "      <td>-1</td>\n",
       "    </tr>\n",
       "    <tr>\n",
       "      <th>3</th>\n",
       "      <td>4</td>\n",
       "      <td>110.6</td>\n",
       "      <td>83</td>\n",
       "      <td>6366.88</td>\n",
       "      <td>-1</td>\n",
       "      <td>-1</td>\n",
       "    </tr>\n",
       "    <tr>\n",
       "      <th>4</th>\n",
       "      <td>5</td>\n",
       "      <td>241.5</td>\n",
       "      <td>71</td>\n",
       "      <td>31.74</td>\n",
       "      <td>-1</td>\n",
       "      <td>-1</td>\n",
       "    </tr>\n",
       "  </tbody>\n",
       "</table>\n",
       "</div>"
      ],
      "text/plain": [
       "   sku_id  price  cate   para_1  para_2  para_3\n",
       "0       1  364.2    71   247.95      -1      -1\n",
       "1       2   36.7    46     6.40      -1      -1\n",
       "2       3  953.3    71   178.92      -1      -1\n",
       "3       4  110.6    83  6366.88      -1      -1\n",
       "4       5  241.5    71    31.74      -1      -1"
      ]
     },
     "execution_count": 11,
     "metadata": {},
     "output_type": "execute_result"
    }
   ],
   "source": [
    "sku_info.head()"
   ]
  },
  {
   "cell_type": "markdown",
   "metadata": {},
   "source": [
    "### （2）分布情况"
   ]
  },
  {
   "cell_type": "code",
   "execution_count": 12,
   "metadata": {},
   "outputs": [],
   "source": [
    "#用户行为(行为次数)的时间分布情况"
   ]
  },
  {
   "cell_type": "code",
   "execution_count": 13,
   "metadata": {},
   "outputs": [],
   "source": [
    "user_action_cate = user_action.merge(sku_info[[\"sku_id\", \"cate\"]], on=\"sku_id\", how=\"left\")"
   ]
  },
  {
   "cell_type": "code",
   "execution_count": 14,
   "metadata": {},
   "outputs": [
    {
     "data": {
      "text/html": [
       "<div>\n",
       "<style scoped>\n",
       "    .dataframe tbody tr th:only-of-type {\n",
       "        vertical-align: middle;\n",
       "    }\n",
       "\n",
       "    .dataframe tbody tr th {\n",
       "        vertical-align: top;\n",
       "    }\n",
       "\n",
       "    .dataframe thead th {\n",
       "        text-align: right;\n",
       "    }\n",
       "</style>\n",
       "<table border=\"1\" class=\"dataframe\">\n",
       "  <thead>\n",
       "    <tr style=\"text-align: right;\">\n",
       "      <th></th>\n",
       "      <th>user_id</th>\n",
       "      <th>sku_id</th>\n",
       "      <th>a_date</th>\n",
       "      <th>a_num</th>\n",
       "      <th>a_type</th>\n",
       "      <th>cate</th>\n",
       "    </tr>\n",
       "  </thead>\n",
       "  <tbody>\n",
       "    <tr>\n",
       "      <th>0</th>\n",
       "      <td>1</td>\n",
       "      <td>80036</td>\n",
       "      <td>2017-04-14</td>\n",
       "      <td>4</td>\n",
       "      <td>1</td>\n",
       "      <td>101</td>\n",
       "    </tr>\n",
       "    <tr>\n",
       "      <th>1</th>\n",
       "      <td>1</td>\n",
       "      <td>96959</td>\n",
       "      <td>2017-01-12</td>\n",
       "      <td>2</td>\n",
       "      <td>1</td>\n",
       "      <td>101</td>\n",
       "    </tr>\n",
       "    <tr>\n",
       "      <th>2</th>\n",
       "      <td>1</td>\n",
       "      <td>8017</td>\n",
       "      <td>2017-03-09</td>\n",
       "      <td>1</td>\n",
       "      <td>1</td>\n",
       "      <td>101</td>\n",
       "    </tr>\n",
       "    <tr>\n",
       "      <th>3</th>\n",
       "      <td>1</td>\n",
       "      <td>80036</td>\n",
       "      <td>2017-04-30</td>\n",
       "      <td>6</td>\n",
       "      <td>1</td>\n",
       "      <td>101</td>\n",
       "    </tr>\n",
       "    <tr>\n",
       "      <th>4</th>\n",
       "      <td>1</td>\n",
       "      <td>16607</td>\n",
       "      <td>2017-01-12</td>\n",
       "      <td>3</td>\n",
       "      <td>1</td>\n",
       "      <td>101</td>\n",
       "    </tr>\n",
       "  </tbody>\n",
       "</table>\n",
       "</div>"
      ],
      "text/plain": [
       "   user_id  sku_id     a_date  a_num  a_type  cate\n",
       "0        1   80036 2017-04-14      4       1   101\n",
       "1        1   96959 2017-01-12      2       1   101\n",
       "2        1    8017 2017-03-09      1       1   101\n",
       "3        1   80036 2017-04-30      6       1   101\n",
       "4        1   16607 2017-01-12      3       1   101"
      ]
     },
     "execution_count": 14,
     "metadata": {},
     "output_type": "execute_result"
    }
   ],
   "source": [
    "user_action_cate.head()"
   ]
  },
  {
   "cell_type": "code",
   "execution_count": 15,
   "metadata": {},
   "outputs": [],
   "source": [
    "user_action_num = user_action_cate.groupby(\"a_date\")[\"a_num\"].sum().reset_index().rename(columns={\"a_num\":\"action_num\"})"
   ]
  },
  {
   "cell_type": "code",
   "execution_count": 16,
   "metadata": {},
   "outputs": [],
   "source": [
    "user_action_num_t = user_action_cate.groupby([\"a_date\", \"a_type\"])[\"a_num\"].sum().reset_index().rename(columns={\"a_num\":\"action_num_t\"})"
   ]
  },
  {
   "cell_type": "code",
   "execution_count": 18,
   "metadata": {},
   "outputs": [
    {
     "data": {
      "text/html": [
       "<div>\n",
       "<style scoped>\n",
       "    .dataframe tbody tr th:only-of-type {\n",
       "        vertical-align: middle;\n",
       "    }\n",
       "\n",
       "    .dataframe tbody tr th {\n",
       "        vertical-align: top;\n",
       "    }\n",
       "\n",
       "    .dataframe thead th {\n",
       "        text-align: right;\n",
       "    }\n",
       "</style>\n",
       "<table border=\"1\" class=\"dataframe\">\n",
       "  <thead>\n",
       "    <tr style=\"text-align: right;\">\n",
       "      <th></th>\n",
       "      <th>a_date</th>\n",
       "      <th>action_num</th>\n",
       "    </tr>\n",
       "  </thead>\n",
       "  <tbody>\n",
       "    <tr>\n",
       "      <th>0</th>\n",
       "      <td>2016-05-01</td>\n",
       "      <td>15521</td>\n",
       "    </tr>\n",
       "    <tr>\n",
       "      <th>1</th>\n",
       "      <td>2016-05-02</td>\n",
       "      <td>15875</td>\n",
       "    </tr>\n",
       "    <tr>\n",
       "      <th>2</th>\n",
       "      <td>2016-05-03</td>\n",
       "      <td>17303</td>\n",
       "    </tr>\n",
       "    <tr>\n",
       "      <th>3</th>\n",
       "      <td>2016-05-04</td>\n",
       "      <td>16176</td>\n",
       "    </tr>\n",
       "    <tr>\n",
       "      <th>4</th>\n",
       "      <td>2016-05-05</td>\n",
       "      <td>17783</td>\n",
       "    </tr>\n",
       "  </tbody>\n",
       "</table>\n",
       "</div>"
      ],
      "text/plain": [
       "      a_date  action_num\n",
       "0 2016-05-01       15521\n",
       "1 2016-05-02       15875\n",
       "2 2016-05-03       17303\n",
       "3 2016-05-04       16176\n",
       "4 2016-05-05       17783"
      ]
     },
     "execution_count": 18,
     "metadata": {},
     "output_type": "execute_result"
    }
   ],
   "source": [
    "user_action_num.head()"
   ]
  },
  {
   "cell_type": "code",
   "execution_count": 19,
   "metadata": {},
   "outputs": [
    {
     "data": {
      "text/html": [
       "<div>\n",
       "<style scoped>\n",
       "    .dataframe tbody tr th:only-of-type {\n",
       "        vertical-align: middle;\n",
       "    }\n",
       "\n",
       "    .dataframe tbody tr th {\n",
       "        vertical-align: top;\n",
       "    }\n",
       "\n",
       "    .dataframe thead th {\n",
       "        text-align: right;\n",
       "    }\n",
       "</style>\n",
       "<table border=\"1\" class=\"dataframe\">\n",
       "  <thead>\n",
       "    <tr style=\"text-align: right;\">\n",
       "      <th></th>\n",
       "      <th>a_date</th>\n",
       "      <th>a_type</th>\n",
       "      <th>action_num_t</th>\n",
       "    </tr>\n",
       "  </thead>\n",
       "  <tbody>\n",
       "    <tr>\n",
       "      <th>0</th>\n",
       "      <td>2016-05-01</td>\n",
       "      <td>1</td>\n",
       "      <td>15446</td>\n",
       "    </tr>\n",
       "    <tr>\n",
       "      <th>1</th>\n",
       "      <td>2016-05-01</td>\n",
       "      <td>2</td>\n",
       "      <td>75</td>\n",
       "    </tr>\n",
       "    <tr>\n",
       "      <th>2</th>\n",
       "      <td>2016-05-02</td>\n",
       "      <td>1</td>\n",
       "      <td>15756</td>\n",
       "    </tr>\n",
       "    <tr>\n",
       "      <th>3</th>\n",
       "      <td>2016-05-02</td>\n",
       "      <td>2</td>\n",
       "      <td>119</td>\n",
       "    </tr>\n",
       "    <tr>\n",
       "      <th>4</th>\n",
       "      <td>2016-05-03</td>\n",
       "      <td>1</td>\n",
       "      <td>17178</td>\n",
       "    </tr>\n",
       "  </tbody>\n",
       "</table>\n",
       "</div>"
      ],
      "text/plain": [
       "      a_date  a_type  action_num_t\n",
       "0 2016-05-01       1         15446\n",
       "1 2016-05-01       2            75\n",
       "2 2016-05-02       1         15756\n",
       "3 2016-05-02       2           119\n",
       "4 2016-05-03       1         17178"
      ]
     },
     "execution_count": 19,
     "metadata": {},
     "output_type": "execute_result"
    }
   ],
   "source": [
    "user_action_num_t.head()"
   ]
  },
  {
   "cell_type": "code",
   "execution_count": 20,
   "metadata": {},
   "outputs": [],
   "source": [
    "import matplotlib.pyplot as plt"
   ]
  },
  {
   "cell_type": "code",
   "execution_count": 21,
   "metadata": {},
   "outputs": [
    {
     "name": "stderr",
     "output_type": "stream",
     "text": [
      "D:\\Anaconda3\\lib\\site-packages\\pandas\\plotting\\_converter.py:129: FutureWarning: Using an implicitly registered datetime converter for a matplotlib plotting method. The converter was registered by pandas on import. Future versions of pandas will require you to explicitly register matplotlib converters.\n",
      "\n",
      "To register the converters:\n",
      "\t>>> from pandas.plotting import register_matplotlib_converters\n",
      "\t>>> register_matplotlib_converters()\n",
      "  warnings.warn(msg, FutureWarning)\n"
     ]
    },
    {
     "data": {
      "image/png": "[encoded data removed]",
      "text/plain": [
       "<Figure size 432x288 with 1 Axes>"
      ]
     },
     "metadata": {
      "needs_background": "light"
     },
     "output_type": "display_data"
    }
   ],
   "source": [
    "plt.plot(user_action_num[\"a_date\"], user_action_num[\"action_num\"])\n",
    "plt.gcf().autofmt_xdate() ###***自动旋转日期标志\n",
    "plt.show()"
   ]
  },
  {
   "cell_type": "code",
   "execution_count": 22,
   "metadata": {},
   "outputs": [
    {
     "data": {
      "text/html": [
       "<div>\n",
       "<style scoped>\n",
       "    .dataframe tbody tr th:only-of-type {\n",
       "        vertical-align: middle;\n",
       "    }\n",
       "\n",
       "    .dataframe tbody tr th {\n",
       "        vertical-align: top;\n",
       "    }\n",
       "\n",
       "    .dataframe thead th {\n",
       "        text-align: right;\n",
       "    }\n",
       "</style>\n",
       "<table border=\"1\" class=\"dataframe\">\n",
       "  <thead>\n",
       "    <tr style=\"text-align: right;\">\n",
       "      <th></th>\n",
       "      <th>a_date</th>\n",
       "      <th>action_num</th>\n",
       "    </tr>\n",
       "  </thead>\n",
       "  <tbody>\n",
       "    <tr>\n",
       "      <th>0</th>\n",
       "      <td>2016-05-01</td>\n",
       "      <td>15521</td>\n",
       "    </tr>\n",
       "    <tr>\n",
       "      <th>1</th>\n",
       "      <td>2016-05-02</td>\n",
       "      <td>15875</td>\n",
       "    </tr>\n",
       "    <tr>\n",
       "      <th>2</th>\n",
       "      <td>2016-05-03</td>\n",
       "      <td>17303</td>\n",
       "    </tr>\n",
       "    <tr>\n",
       "      <th>3</th>\n",
       "      <td>2016-05-04</td>\n",
       "      <td>16176</td>\n",
       "    </tr>\n",
       "    <tr>\n",
       "      <th>4</th>\n",
       "      <td>2016-05-05</td>\n",
       "      <td>17783</td>\n",
       "    </tr>\n",
       "  </tbody>\n",
       "</table>\n",
       "</div>"
      ],
      "text/plain": [
       "      a_date  action_num\n",
       "0 2016-05-01       15521\n",
       "1 2016-05-02       15875\n",
       "2 2016-05-03       17303\n",
       "3 2016-05-04       16176\n",
       "4 2016-05-05       17783"
      ]
     },
     "execution_count": 22,
     "metadata": {},
     "output_type": "execute_result"
    }
   ],
   "source": [
    "user_action_num.head()"
   ]
  },
  {
   "cell_type": "code",
   "execution_count": 23,
   "metadata": {},
   "outputs": [],
   "source": [
    "user_action_num[\"log1_num\"] = np.log1p(user_action_num[\"action_num\"])"
   ]
  },
  {
   "cell_type": "code",
   "execution_count": 24,
   "metadata": {},
   "outputs": [
    {
     "data": {
      "text/html": [
       "<div>\n",
       "<style scoped>\n",
       "    .dataframe tbody tr th:only-of-type {\n",
       "        vertical-align: middle;\n",
       "    }\n",
       "\n",
       "    .dataframe tbody tr th {\n",
       "        vertical-align: top;\n",
       "    }\n",
       "\n",
       "    .dataframe thead th {\n",
       "        text-align: right;\n",
       "    }\n",
       "</style>\n",
       "<table border=\"1\" class=\"dataframe\">\n",
       "  <thead>\n",
       "    <tr style=\"text-align: right;\">\n",
       "      <th></th>\n",
       "      <th>a_date</th>\n",
       "      <th>action_num</th>\n",
       "      <th>log1_num</th>\n",
       "    </tr>\n",
       "  </thead>\n",
       "  <tbody>\n",
       "    <tr>\n",
       "      <th>0</th>\n",
       "      <td>2016-05-01</td>\n",
       "      <td>15521</td>\n",
       "      <td>9.650014</td>\n",
       "    </tr>\n",
       "    <tr>\n",
       "      <th>1</th>\n",
       "      <td>2016-05-02</td>\n",
       "      <td>15875</td>\n",
       "      <td>9.672564</td>\n",
       "    </tr>\n",
       "    <tr>\n",
       "      <th>2</th>\n",
       "      <td>2016-05-03</td>\n",
       "      <td>17303</td>\n",
       "      <td>9.758693</td>\n",
       "    </tr>\n",
       "    <tr>\n",
       "      <th>3</th>\n",
       "      <td>2016-05-04</td>\n",
       "      <td>16176</td>\n",
       "      <td>9.691346</td>\n",
       "    </tr>\n",
       "    <tr>\n",
       "      <th>4</th>\n",
       "      <td>2016-05-05</td>\n",
       "      <td>17783</td>\n",
       "      <td>9.786054</td>\n",
       "    </tr>\n",
       "  </tbody>\n",
       "</table>\n",
       "</div>"
      ],
      "text/plain": [
       "      a_date  action_num  log1_num\n",
       "0 2016-05-01       15521  9.650014\n",
       "1 2016-05-02       15875  9.672564\n",
       "2 2016-05-03       17303  9.758693\n",
       "3 2016-05-04       16176  9.691346\n",
       "4 2016-05-05       17783  9.786054"
      ]
     },
     "execution_count": 24,
     "metadata": {},
     "output_type": "execute_result"
    }
   ],
   "source": [
    "user_action_num.head()"
   ]
  },
  {
   "cell_type": "code",
   "execution_count": 25,
   "metadata": {},
   "outputs": [
    {
     "data": {
      "image/png": "[encoded data removed]",
      "text/plain": [
       "<Figure size 432x288 with 1 Axes>"
      ]
     },
     "metadata": {
      "needs_background": "light"
     },
     "output_type": "display_data"
    }
   ],
   "source": [
    "plt.plot(user_action_num[\"a_date\"], user_action_num[\"log1_num\"])\n",
    "plt.gcf().autofmt_xdate() ###***自动旋转日期标志\n",
    "plt.show()"
   ]
  },
  {
   "cell_type": "code",
   "execution_count": 26,
   "metadata": {},
   "outputs": [
    {
     "data": {
      "image/png": "[encoded data removed]",
      "text/plain": [
       "<Figure size 432x288 with 1 Axes>"
      ]
     },
     "metadata": {
      "needs_background": "light"
     },
     "output_type": "display_data"
    },
    {
     "data": {
      "image/png": "[encoded data removed]",
      "text/plain": [
       "<Figure size 432x288 with 1 Axes>"
      ]
     },
     "metadata": {
      "needs_background": "light"
     },
     "output_type": "display_data"
    }
   ],
   "source": [
    "plt.plot(user_action_num_t[user_action_num_t[\"a_type\"]==1][\"a_date\"], user_action_num_t[user_action_num_t[\"a_type\"]==1][\"action_num_t\"])\n",
    "plt.gcf().autofmt_xdate() ###***自动旋转日期标志\n",
    "plt.plot(user_action_num_t[user_action_num_t[\"a_type\"]==1][\"a_date\"], user_action_num_t[user_action_num_t[\"a_type\"]==1][\"action_num_t\"])\n",
    "plt.gcf().autofmt_xdate() ###***自动旋转日期标志\n",
    "plt.show()\n",
    "plt.plot(user_action_num_t[user_action_num_t[\"a_type\"]==2][\"a_date\"], user_action_num_t[user_action_num_t[\"a_type\"]==2][\"action_num_t\"])\n",
    "plt.gcf().autofmt_xdate() ###***自动旋转日期标志\n",
    "plt.show()"
   ]
  },
  {
   "cell_type": "code",
   "execution_count": 27,
   "metadata": {},
   "outputs": [],
   "source": [
    "###***训练集的数据分布要尽量与预测时间点（段）的数据分布保持一致，因此，做事先数据分布很重要"
   ]
  },
  {
   "cell_type": "raw",
   "metadata": {},
   "source": [
    "结论：\n",
    "1 全量数据集共有约1年的数据 2016.05~2017.04\n",
    "2 在2016.06.18、2016.11.11、2016.12.12、2017.04.07时间点左右用户行为数量明显高于往常；2017.01.27时间点左右哦用户点行为数量明显低于往常\n",
    "3 用户行为次数具有时间特征\n",
    "*4 因为是要预测2017年5月份的情况，5月份的情况符合正常数据分布，因此，在预测的时候要对2中特殊时间点的行为数据做处理（即异常值处理，此处异常值是相对的）\n",
    "    *问题：对于特征，如何处理特殊点附近的数据？？？  对于标签值，如何处理特殊点附近的数据？？？\n",
    "？？如何判断两个数据集的分布情况 \n",
    "本题中由于数据量的局限性，是无法找到与预测月份数据分布情况十分一致的数据集"
   ]
  },
  {
   "cell_type": "code",
   "execution_count": null,
   "metadata": {},
   "outputs": [],
   "source": []
  },
  {
   "cell_type": "code",
   "execution_count": 28,
   "metadata": {},
   "outputs": [],
   "source": [
    "#用户订单量时间分布情况"
   ]
  },
  {
   "cell_type": "code",
   "execution_count": 29,
   "metadata": {},
   "outputs": [
    {
     "data": {
      "text/html": [
       "<div>\n",
       "<style scoped>\n",
       "    .dataframe tbody tr th:only-of-type {\n",
       "        vertical-align: middle;\n",
       "    }\n",
       "\n",
       "    .dataframe tbody tr th {\n",
       "        vertical-align: top;\n",
       "    }\n",
       "\n",
       "    .dataframe thead th {\n",
       "        text-align: right;\n",
       "    }\n",
       "</style>\n",
       "<table border=\"1\" class=\"dataframe\">\n",
       "  <thead>\n",
       "    <tr style=\"text-align: right;\">\n",
       "      <th></th>\n",
       "      <th>user_id</th>\n",
       "      <th>sku_id</th>\n",
       "      <th>o_id</th>\n",
       "      <th>o_date</th>\n",
       "      <th>o_area</th>\n",
       "      <th>o_sku_num</th>\n",
       "    </tr>\n",
       "  </thead>\n",
       "  <tbody>\n",
       "    <tr>\n",
       "      <th>0</th>\n",
       "      <td>1</td>\n",
       "      <td>80036</td>\n",
       "      <td>480066</td>\n",
       "      <td>2017-03-09</td>\n",
       "      <td>14</td>\n",
       "      <td>1</td>\n",
       "    </tr>\n",
       "    <tr>\n",
       "      <th>1</th>\n",
       "      <td>1</td>\n",
       "      <td>16607</td>\n",
       "      <td>106933</td>\n",
       "      <td>2017-01-12</td>\n",
       "      <td>14</td>\n",
       "      <td>1</td>\n",
       "    </tr>\n",
       "    <tr>\n",
       "      <th>2</th>\n",
       "      <td>1</td>\n",
       "      <td>80036</td>\n",
       "      <td>542604</td>\n",
       "      <td>2017-04-14</td>\n",
       "      <td>14</td>\n",
       "      <td>1</td>\n",
       "    </tr>\n",
       "    <tr>\n",
       "      <th>3</th>\n",
       "      <td>1</td>\n",
       "      <td>80036</td>\n",
       "      <td>196335</td>\n",
       "      <td>2017-04-30</td>\n",
       "      <td>14</td>\n",
       "      <td>1</td>\n",
       "    </tr>\n",
       "    <tr>\n",
       "      <th>4</th>\n",
       "      <td>1</td>\n",
       "      <td>80036</td>\n",
       "      <td>42502</td>\n",
       "      <td>2017-03-22</td>\n",
       "      <td>14</td>\n",
       "      <td>2</td>\n",
       "    </tr>\n",
       "  </tbody>\n",
       "</table>\n",
       "</div>"
      ],
      "text/plain": [
       "   user_id  sku_id    o_id     o_date  o_area  o_sku_num\n",
       "0        1   80036  480066 2017-03-09      14          1\n",
       "1        1   16607  106933 2017-01-12      14          1\n",
       "2        1   80036  542604 2017-04-14      14          1\n",
       "3        1   80036  196335 2017-04-30      14          1\n",
       "4        1   80036   42502 2017-03-22      14          2"
      ]
     },
     "execution_count": 29,
     "metadata": {},
     "output_type": "execute_result"
    }
   ],
   "source": [
    "user_order.head()"
   ]
  },
  {
   "cell_type": "code",
   "execution_count": 30,
   "metadata": {},
   "outputs": [],
   "source": [
    "user_order_num = user_order.groupby(\"o_date\")[\"o_sku_num\"].sum().reset_index().rename(columns={\"o_sku_num\":\"user_order_sum\"})"
   ]
  },
  {
   "cell_type": "code",
   "execution_count": 31,
   "metadata": {},
   "outputs": [
    {
     "data": {
      "text/html": [
       "<div>\n",
       "<style scoped>\n",
       "    .dataframe tbody tr th:only-of-type {\n",
       "        vertical-align: middle;\n",
       "    }\n",
       "\n",
       "    .dataframe tbody tr th {\n",
       "        vertical-align: top;\n",
       "    }\n",
       "\n",
       "    .dataframe thead th {\n",
       "        text-align: right;\n",
       "    }\n",
       "</style>\n",
       "<table border=\"1\" class=\"dataframe\">\n",
       "  <thead>\n",
       "    <tr style=\"text-align: right;\">\n",
       "      <th></th>\n",
       "      <th>o_date</th>\n",
       "      <th>user_order_sum</th>\n",
       "    </tr>\n",
       "  </thead>\n",
       "  <tbody>\n",
       "    <tr>\n",
       "      <th>0</th>\n",
       "      <td>2016-05-01</td>\n",
       "      <td>1692</td>\n",
       "    </tr>\n",
       "    <tr>\n",
       "      <th>1</th>\n",
       "      <td>2016-05-02</td>\n",
       "      <td>1516</td>\n",
       "    </tr>\n",
       "    <tr>\n",
       "      <th>2</th>\n",
       "      <td>2016-05-03</td>\n",
       "      <td>1848</td>\n",
       "    </tr>\n",
       "    <tr>\n",
       "      <th>3</th>\n",
       "      <td>2016-05-04</td>\n",
       "      <td>1466</td>\n",
       "    </tr>\n",
       "    <tr>\n",
       "      <th>4</th>\n",
       "      <td>2016-05-05</td>\n",
       "      <td>1682</td>\n",
       "    </tr>\n",
       "  </tbody>\n",
       "</table>\n",
       "</div>"
      ],
      "text/plain": [
       "      o_date  user_order_sum\n",
       "0 2016-05-01            1692\n",
       "1 2016-05-02            1516\n",
       "2 2016-05-03            1848\n",
       "3 2016-05-04            1466\n",
       "4 2016-05-05            1682"
      ]
     },
     "execution_count": 31,
     "metadata": {},
     "output_type": "execute_result"
    }
   ],
   "source": [
    "user_order_num.head()"
   ]
  },
  {
   "cell_type": "code",
   "execution_count": 32,
   "metadata": {},
   "outputs": [
    {
     "data": {
      "image/png": "[encoded data removed]",
      "text/plain": [
       "<Figure size 432x288 with 1 Axes>"
      ]
     },
     "metadata": {
      "needs_background": "light"
     },
     "output_type": "display_data"
    }
   ],
   "source": [
    "plt.plot(user_order_num[\"o_date\"], user_order_num[\"user_order_sum\"])\n",
    "plt.gcf().autofmt_xdate() ###***自动旋转日期标志\n",
    "plt.show()"
   ]
  },
  {
   "cell_type": "raw",
   "metadata": {},
   "source": [
    "结论：\n",
    "    通过数据分析，提取标签的月份用与预测月份分布较相似的月份：3月、2月、12月"
   ]
  },
  {
   "cell_type": "code",
   "execution_count": null,
   "metadata": {},
   "outputs": [],
   "source": []
  },
  {
   "cell_type": "markdown",
   "metadata": {},
   "source": [
    "### （3）与标签值关联情况"
   ]
  },
  {
   "cell_type": "code",
   "execution_count": 33,
   "metadata": {},
   "outputs": [
    {
     "data": {
      "text/plain": [
       "'\\nuser_info\\nsku_info\\nuser_action\\nuser_order\\nuser_comment\\n'"
      ]
     },
     "execution_count": 33,
     "metadata": {},
     "output_type": "execute_result"
    }
   ],
   "source": [
    "#切分数据集\n",
    "label_data_list = []\n",
    "train_data_list = []\n",
    "\"\"\"\n",
    "user_info\n",
    "sku_info\n",
    "user_action\n",
    "user_order\n",
    "user_comment\n",
    "\"\"\""
   ]
  },
  {
   "cell_type": "code",
   "execution_count": 34,
   "metadata": {},
   "outputs": [
    {
     "data": {
      "text/html": [
       "<div>\n",
       "<style scoped>\n",
       "    .dataframe tbody tr th:only-of-type {\n",
       "        vertical-align: middle;\n",
       "    }\n",
       "\n",
       "    .dataframe tbody tr th {\n",
       "        vertical-align: top;\n",
       "    }\n",
       "\n",
       "    .dataframe thead th {\n",
       "        text-align: right;\n",
       "    }\n",
       "</style>\n",
       "<table border=\"1\" class=\"dataframe\">\n",
       "  <thead>\n",
       "    <tr style=\"text-align: right;\">\n",
       "      <th></th>\n",
       "      <th>user_id</th>\n",
       "      <th>sku_id</th>\n",
       "      <th>a_date</th>\n",
       "      <th>a_num</th>\n",
       "      <th>a_type</th>\n",
       "    </tr>\n",
       "  </thead>\n",
       "  <tbody>\n",
       "    <tr>\n",
       "      <th>0</th>\n",
       "      <td>1</td>\n",
       "      <td>80036</td>\n",
       "      <td>2017-04-14</td>\n",
       "      <td>4</td>\n",
       "      <td>1</td>\n",
       "    </tr>\n",
       "    <tr>\n",
       "      <th>1</th>\n",
       "      <td>1</td>\n",
       "      <td>96959</td>\n",
       "      <td>2017-01-12</td>\n",
       "      <td>2</td>\n",
       "      <td>1</td>\n",
       "    </tr>\n",
       "    <tr>\n",
       "      <th>2</th>\n",
       "      <td>1</td>\n",
       "      <td>8017</td>\n",
       "      <td>2017-03-09</td>\n",
       "      <td>1</td>\n",
       "      <td>1</td>\n",
       "    </tr>\n",
       "    <tr>\n",
       "      <th>3</th>\n",
       "      <td>1</td>\n",
       "      <td>80036</td>\n",
       "      <td>2017-04-30</td>\n",
       "      <td>6</td>\n",
       "      <td>1</td>\n",
       "    </tr>\n",
       "    <tr>\n",
       "      <th>4</th>\n",
       "      <td>1</td>\n",
       "      <td>16607</td>\n",
       "      <td>2017-01-12</td>\n",
       "      <td>3</td>\n",
       "      <td>1</td>\n",
       "    </tr>\n",
       "  </tbody>\n",
       "</table>\n",
       "</div>"
      ],
      "text/plain": [
       "   user_id  sku_id     a_date  a_num  a_type\n",
       "0        1   80036 2017-04-14      4       1\n",
       "1        1   96959 2017-01-12      2       1\n",
       "2        1    8017 2017-03-09      1       1\n",
       "3        1   80036 2017-04-30      6       1\n",
       "4        1   16607 2017-01-12      3       1"
      ]
     },
     "execution_count": 34,
     "metadata": {},
     "output_type": "execute_result"
    }
   ],
   "source": [
    "user_action.head()"
   ]
  },
  {
   "cell_type": "code",
   "execution_count": 35,
   "metadata": {},
   "outputs": [
    {
     "data": {
      "text/html": [
       "<div>\n",
       "<style scoped>\n",
       "    .dataframe tbody tr th:only-of-type {\n",
       "        vertical-align: middle;\n",
       "    }\n",
       "\n",
       "    .dataframe tbody tr th {\n",
       "        vertical-align: top;\n",
       "    }\n",
       "\n",
       "    .dataframe thead th {\n",
       "        text-align: right;\n",
       "    }\n",
       "</style>\n",
       "<table border=\"1\" class=\"dataframe\">\n",
       "  <thead>\n",
       "    <tr style=\"text-align: right;\">\n",
       "      <th></th>\n",
       "      <th>sku_id</th>\n",
       "      <th>price</th>\n",
       "      <th>cate</th>\n",
       "      <th>para_1</th>\n",
       "      <th>para_2</th>\n",
       "      <th>para_3</th>\n",
       "    </tr>\n",
       "  </thead>\n",
       "  <tbody>\n",
       "    <tr>\n",
       "      <th>0</th>\n",
       "      <td>1</td>\n",
       "      <td>364.2</td>\n",
       "      <td>71</td>\n",
       "      <td>247.95</td>\n",
       "      <td>-1</td>\n",
       "      <td>-1</td>\n",
       "    </tr>\n",
       "    <tr>\n",
       "      <th>1</th>\n",
       "      <td>2</td>\n",
       "      <td>36.7</td>\n",
       "      <td>46</td>\n",
       "      <td>6.40</td>\n",
       "      <td>-1</td>\n",
       "      <td>-1</td>\n",
       "    </tr>\n",
       "    <tr>\n",
       "      <th>2</th>\n",
       "      <td>3</td>\n",
       "      <td>953.3</td>\n",
       "      <td>71</td>\n",
       "      <td>178.92</td>\n",
       "      <td>-1</td>\n",
       "      <td>-1</td>\n",
       "    </tr>\n",
       "    <tr>\n",
       "      <th>3</th>\n",
       "      <td>4</td>\n",
       "      <td>110.6</td>\n",
       "      <td>83</td>\n",
       "      <td>6366.88</td>\n",
       "      <td>-1</td>\n",
       "      <td>-1</td>\n",
       "    </tr>\n",
       "    <tr>\n",
       "      <th>4</th>\n",
       "      <td>5</td>\n",
       "      <td>241.5</td>\n",
       "      <td>71</td>\n",
       "      <td>31.74</td>\n",
       "      <td>-1</td>\n",
       "      <td>-1</td>\n",
       "    </tr>\n",
       "  </tbody>\n",
       "</table>\n",
       "</div>"
      ],
      "text/plain": [
       "   sku_id  price  cate   para_1  para_2  para_3\n",
       "0       1  364.2    71   247.95      -1      -1\n",
       "1       2   36.7    46     6.40      -1      -1\n",
       "2       3  953.3    71   178.92      -1      -1\n",
       "3       4  110.6    83  6366.88      -1      -1\n",
       "4       5  241.5    71    31.74      -1      -1"
      ]
     },
     "execution_count": 35,
     "metadata": {},
     "output_type": "execute_result"
    }
   ],
   "source": [
    "sku_info.head()"
   ]
  },
  {
   "cell_type": "code",
   "execution_count": 36,
   "metadata": {},
   "outputs": [
    {
     "data": {
      "text/plain": [
       "(99412, 6)"
      ]
     },
     "execution_count": 36,
     "metadata": {},
     "output_type": "execute_result"
    }
   ],
   "source": [
    "sku_info.shape"
   ]
  },
  {
   "cell_type": "code",
   "execution_count": 37,
   "metadata": {},
   "outputs": [],
   "source": [
    "sku_info = sku_info.drop_duplicates(subset=[\"sku_id\"],keep='first',inplace=False)"
   ]
  },
  {
   "cell_type": "code",
   "execution_count": 38,
   "metadata": {},
   "outputs": [
    {
     "data": {
      "text/plain": [
       "(99412, 6)"
      ]
     },
     "execution_count": 38,
     "metadata": {},
     "output_type": "execute_result"
    }
   ],
   "source": [
    "sku_info.shape"
   ]
  },
  {
   "cell_type": "code",
   "execution_count": 39,
   "metadata": {},
   "outputs": [
    {
     "data": {
      "text/plain": [
       "(792723, 6)"
      ]
     },
     "execution_count": 39,
     "metadata": {},
     "output_type": "execute_result"
    }
   ],
   "source": [
    "user_order.shape"
   ]
  },
  {
   "cell_type": "code",
   "execution_count": 40,
   "metadata": {},
   "outputs": [
    {
     "data": {
      "text/plain": [
       "array([  1,   2,   4,   3,   5,   6,   8,  12,   9,  22,  11,   7,  10,\n",
       "        15,  13,  30,  16, 100,  18,  48,  14,  31,  19,  40,  80,  25,\n",
       "        20,  17,  24,  23,  47,  21,  29,  33,  61,  26,  50, 103,  35,\n",
       "        28,  99,  41,  60,  85,  90,  63, 180, 200, 185,  34,  27],\n",
       "      dtype=int64)"
      ]
     },
     "execution_count": 40,
     "metadata": {},
     "output_type": "execute_result"
    }
   ],
   "source": [
    "user_order[\"o_sku_num\"].unique()"
   ]
  },
  {
   "cell_type": "raw",
   "metadata": {},
   "source": [
    "结论：user_order数据集的o_sku_num字段取值都大于0且没有缺失值"
   ]
  },
  {
   "cell_type": "code",
   "execution_count": 41,
   "metadata": {},
   "outputs": [
    {
     "data": {
      "text/html": [
       "<div>\n",
       "<style scoped>\n",
       "    .dataframe tbody tr th:only-of-type {\n",
       "        vertical-align: middle;\n",
       "    }\n",
       "\n",
       "    .dataframe tbody tr th {\n",
       "        vertical-align: top;\n",
       "    }\n",
       "\n",
       "    .dataframe thead th {\n",
       "        text-align: right;\n",
       "    }\n",
       "</style>\n",
       "<table border=\"1\" class=\"dataframe\">\n",
       "  <thead>\n",
       "    <tr style=\"text-align: right;\">\n",
       "      <th></th>\n",
       "      <th>user_id</th>\n",
       "      <th>sku_id</th>\n",
       "      <th>o_id</th>\n",
       "      <th>o_date</th>\n",
       "      <th>o_area</th>\n",
       "      <th>o_sku_num</th>\n",
       "      <th>price</th>\n",
       "      <th>cate</th>\n",
       "      <th>para_1</th>\n",
       "    </tr>\n",
       "  </thead>\n",
       "  <tbody>\n",
       "    <tr>\n",
       "      <th>0</th>\n",
       "      <td>1</td>\n",
       "      <td>80036</td>\n",
       "      <td>480066</td>\n",
       "      <td>2017-03-09</td>\n",
       "      <td>14</td>\n",
       "      <td>1</td>\n",
       "      <td>511.8</td>\n",
       "      <td>101</td>\n",
       "      <td>189.25</td>\n",
       "    </tr>\n",
       "    <tr>\n",
       "      <th>1</th>\n",
       "      <td>1</td>\n",
       "      <td>16607</td>\n",
       "      <td>106933</td>\n",
       "      <td>2017-01-12</td>\n",
       "      <td>14</td>\n",
       "      <td>1</td>\n",
       "      <td>557.0</td>\n",
       "      <td>101</td>\n",
       "      <td>442.63</td>\n",
       "    </tr>\n",
       "    <tr>\n",
       "      <th>2</th>\n",
       "      <td>1</td>\n",
       "      <td>80036</td>\n",
       "      <td>542604</td>\n",
       "      <td>2017-04-14</td>\n",
       "      <td>14</td>\n",
       "      <td>1</td>\n",
       "      <td>511.8</td>\n",
       "      <td>101</td>\n",
       "      <td>189.25</td>\n",
       "    </tr>\n",
       "    <tr>\n",
       "      <th>3</th>\n",
       "      <td>1</td>\n",
       "      <td>80036</td>\n",
       "      <td>196335</td>\n",
       "      <td>2017-04-30</td>\n",
       "      <td>14</td>\n",
       "      <td>1</td>\n",
       "      <td>511.8</td>\n",
       "      <td>101</td>\n",
       "      <td>189.25</td>\n",
       "    </tr>\n",
       "    <tr>\n",
       "      <th>4</th>\n",
       "      <td>1</td>\n",
       "      <td>80036</td>\n",
       "      <td>42502</td>\n",
       "      <td>2017-03-22</td>\n",
       "      <td>14</td>\n",
       "      <td>2</td>\n",
       "      <td>511.8</td>\n",
       "      <td>101</td>\n",
       "      <td>189.25</td>\n",
       "    </tr>\n",
       "  </tbody>\n",
       "</table>\n",
       "</div>"
      ],
      "text/plain": [
       "   user_id  sku_id    o_id     o_date  o_area  o_sku_num  price  cate  para_1\n",
       "0        1   80036  480066 2017-03-09      14          1  511.8   101  189.25\n",
       "1        1   16607  106933 2017-01-12      14          1  557.0   101  442.63\n",
       "2        1   80036  542604 2017-04-14      14          1  511.8   101  189.25\n",
       "3        1   80036  196335 2017-04-30      14          1  511.8   101  189.25\n",
       "4        1   80036   42502 2017-03-22      14          2  511.8   101  189.25"
      ]
     },
     "execution_count": 41,
     "metadata": {},
     "output_type": "execute_result"
    }
   ],
   "source": [
    "user_order_cate = user_order.merge(sku_info[[\"sku_id\", \"price\", \"cate\", \"para_1\"]], on=\"sku_id\", how=\"left\")\n",
    "user_order_cate.head()"
   ]
  },
  {
   "cell_type": "code",
   "execution_count": 42,
   "metadata": {},
   "outputs": [
    {
     "data": {
      "text/plain": [
       "(792723, 9)"
      ]
     },
     "execution_count": 42,
     "metadata": {},
     "output_type": "execute_result"
    }
   ],
   "source": [
    "user_order_cate.shape"
   ]
  },
  {
   "cell_type": "code",
   "execution_count": 43,
   "metadata": {},
   "outputs": [],
   "source": [
    "#用来提取标签的数据集\n",
    "def is_buy(row):\n",
    "    if (row == 101) | (row == 30):\n",
    "        return 1\n",
    "    else:\n",
    "        return 0\n",
    "    \n",
    "user_order_cate[\"is_buy\"] = user_order_cate[\"cate\"].apply(is_buy)\n",
    "\n",
    "L_data1 = user_order_cate[(user_order_cate[\"o_date\"]>=pd.to_datetime(\"20170301\"))&(user_order_cate[\"o_date\"]<=pd.to_datetime(\"20170331\"))]\n",
    "L_data2 = user_order_cate[(user_order_cate[\"o_date\"]>=pd.to_datetime(\"20170129\"))&(user_order_cate[\"o_date\"]<=pd.to_datetime(\"20170228\"))]\n",
    "L_data3 = user_order_cate[(user_order_cate[\"o_date\"]>=pd.to_datetime(\"20161201\"))&(user_order_cate[\"o_date\"]<=pd.to_datetime(\"20161231\"))]\n",
    "###***时间大小比较  user_order_cate[\"o_date\"]<=pd.to_datetime(\"20161231\")"
   ]
  },
  {
   "cell_type": "code",
   "execution_count": 44,
   "metadata": {},
   "outputs": [],
   "source": [
    "#提取标签1  写成函数，可重复使用"
   ]
  },
  {
   "cell_type": "code",
   "execution_count": 45,
   "metadata": {},
   "outputs": [
    {
     "data": {
      "text/html": [
       "<div>\n",
       "<style scoped>\n",
       "    .dataframe tbody tr th:only-of-type {\n",
       "        vertical-align: middle;\n",
       "    }\n",
       "\n",
       "    .dataframe tbody tr th {\n",
       "        vertical-align: top;\n",
       "    }\n",
       "\n",
       "    .dataframe thead th {\n",
       "        text-align: right;\n",
       "    }\n",
       "</style>\n",
       "<table border=\"1\" class=\"dataframe\">\n",
       "  <thead>\n",
       "    <tr style=\"text-align: right;\">\n",
       "      <th></th>\n",
       "      <th>user_id</th>\n",
       "      <th>sku_id</th>\n",
       "      <th>o_id</th>\n",
       "      <th>o_date</th>\n",
       "      <th>o_area</th>\n",
       "      <th>o_sku_num</th>\n",
       "      <th>price</th>\n",
       "      <th>cate</th>\n",
       "      <th>para_1</th>\n",
       "      <th>is_buy</th>\n",
       "    </tr>\n",
       "  </thead>\n",
       "  <tbody>\n",
       "    <tr>\n",
       "      <th>0</th>\n",
       "      <td>1</td>\n",
       "      <td>80036</td>\n",
       "      <td>480066</td>\n",
       "      <td>2017-03-09</td>\n",
       "      <td>14</td>\n",
       "      <td>1</td>\n",
       "      <td>511.8</td>\n",
       "      <td>101</td>\n",
       "      <td>189.25</td>\n",
       "      <td>1</td>\n",
       "    </tr>\n",
       "    <tr>\n",
       "      <th>4</th>\n",
       "      <td>1</td>\n",
       "      <td>80036</td>\n",
       "      <td>42502</td>\n",
       "      <td>2017-03-22</td>\n",
       "      <td>14</td>\n",
       "      <td>2</td>\n",
       "      <td>511.8</td>\n",
       "      <td>101</td>\n",
       "      <td>189.25</td>\n",
       "      <td>1</td>\n",
       "    </tr>\n",
       "    <tr>\n",
       "      <th>7</th>\n",
       "      <td>3</td>\n",
       "      <td>71817</td>\n",
       "      <td>403068</td>\n",
       "      <td>2017-03-03</td>\n",
       "      <td>26</td>\n",
       "      <td>2</td>\n",
       "      <td>106.5</td>\n",
       "      <td>83</td>\n",
       "      <td>9.03</td>\n",
       "      <td>0</td>\n",
       "    </tr>\n",
       "    <tr>\n",
       "      <th>8</th>\n",
       "      <td>3</td>\n",
       "      <td>18217</td>\n",
       "      <td>403068</td>\n",
       "      <td>2017-03-03</td>\n",
       "      <td>26</td>\n",
       "      <td>2</td>\n",
       "      <td>88.3</td>\n",
       "      <td>83</td>\n",
       "      <td>9.73</td>\n",
       "      <td>0</td>\n",
       "    </tr>\n",
       "    <tr>\n",
       "      <th>9</th>\n",
       "      <td>3</td>\n",
       "      <td>2816</td>\n",
       "      <td>403068</td>\n",
       "      <td>2017-03-03</td>\n",
       "      <td>26</td>\n",
       "      <td>1</td>\n",
       "      <td>150.1</td>\n",
       "      <td>83</td>\n",
       "      <td>7.16</td>\n",
       "      <td>0</td>\n",
       "    </tr>\n",
       "  </tbody>\n",
       "</table>\n",
       "</div>"
      ],
      "text/plain": [
       "   user_id  sku_id    o_id     o_date  o_area  o_sku_num  price  cate  para_1  \\\n",
       "0        1   80036  480066 2017-03-09      14          1  511.8   101  189.25   \n",
       "4        1   80036   42502 2017-03-22      14          2  511.8   101  189.25   \n",
       "7        3   71817  403068 2017-03-03      26          2  106.5    83    9.03   \n",
       "8        3   18217  403068 2017-03-03      26          2   88.3    83    9.73   \n",
       "9        3    2816  403068 2017-03-03      26          1  150.1    83    7.16   \n",
       "\n",
       "   is_buy  \n",
       "0       1  \n",
       "4       1  \n",
       "7       0  \n",
       "8       0  \n",
       "9       0  "
      ]
     },
     "execution_count": 45,
     "metadata": {},
     "output_type": "execute_result"
    }
   ],
   "source": [
    "L_data1.head()"
   ]
  },
  {
   "cell_type": "code",
   "execution_count": 46,
   "metadata": {},
   "outputs": [],
   "source": [
    "#1.user_info\n",
    "#2.对于L_data,以\"user_id\"为groupby,合并.计算\"is_buy\"之和，如果大于等于1，则返回1，否则返回0\n",
    "#3.user_info.merge(user_id, on=\"user_id\", how=\"left\").fillna(0)\n",
    "def getLabel(L_data, user_info):\n",
    "    user_info = user_info.drop_duplicates(subset=[\"user_id\"], keep=\"first\", inplace=False)\n",
    "    L_data_group = L_data.groupby(\"user_id\")[\"is_buy\"].sum().reset_index()\n",
    "    L_data_group[\"is_buy\"] = L_data_group[\"is_buy\"].apply(lambda x: 1 if x>=1 else 0)  ###***用lambda表达如果一个数大于等于1返回1，否则返回0\n",
    "    L_data_group = L_data_group.drop_duplicates(subset=[\"user_id\"], keep=\"first\", inplace=False)\n",
    "    userInfo_isBuy_label = user_info.merge(L_data_group, on=\"user_id\", how=\"left\").fillna(0)\n",
    "    return userInfo_isBuy_label"
   ]
  },
  {
   "cell_type": "code",
   "execution_count": 47,
   "metadata": {},
   "outputs": [],
   "source": [
    "userInfo_isBuy_label1 = getLabel(L_data1, user_info)"
   ]
  },
  {
   "cell_type": "code",
   "execution_count": 48,
   "metadata": {},
   "outputs": [
    {
     "data": {
      "text/html": [
       "<div>\n",
       "<style scoped>\n",
       "    .dataframe tbody tr th:only-of-type {\n",
       "        vertical-align: middle;\n",
       "    }\n",
       "\n",
       "    .dataframe tbody tr th {\n",
       "        vertical-align: top;\n",
       "    }\n",
       "\n",
       "    .dataframe thead th {\n",
       "        text-align: right;\n",
       "    }\n",
       "</style>\n",
       "<table border=\"1\" class=\"dataframe\">\n",
       "  <thead>\n",
       "    <tr style=\"text-align: right;\">\n",
       "      <th></th>\n",
       "      <th>user_id</th>\n",
       "      <th>age</th>\n",
       "      <th>sex</th>\n",
       "      <th>user_lv_cd</th>\n",
       "      <th>is_buy</th>\n",
       "    </tr>\n",
       "  </thead>\n",
       "  <tbody>\n",
       "    <tr>\n",
       "      <th>0</th>\n",
       "      <td>1</td>\n",
       "      <td>3</td>\n",
       "      <td>2</td>\n",
       "      <td>3</td>\n",
       "      <td>1.0</td>\n",
       "    </tr>\n",
       "    <tr>\n",
       "      <th>1</th>\n",
       "      <td>2</td>\n",
       "      <td>3</td>\n",
       "      <td>2</td>\n",
       "      <td>3</td>\n",
       "      <td>0.0</td>\n",
       "    </tr>\n",
       "    <tr>\n",
       "      <th>2</th>\n",
       "      <td>3</td>\n",
       "      <td>3</td>\n",
       "      <td>0</td>\n",
       "      <td>5</td>\n",
       "      <td>0.0</td>\n",
       "    </tr>\n",
       "    <tr>\n",
       "      <th>3</th>\n",
       "      <td>4</td>\n",
       "      <td>3</td>\n",
       "      <td>2</td>\n",
       "      <td>3</td>\n",
       "      <td>0.0</td>\n",
       "    </tr>\n",
       "    <tr>\n",
       "      <th>4</th>\n",
       "      <td>5</td>\n",
       "      <td>4</td>\n",
       "      <td>2</td>\n",
       "      <td>2</td>\n",
       "      <td>0.0</td>\n",
       "    </tr>\n",
       "  </tbody>\n",
       "</table>\n",
       "</div>"
      ],
      "text/plain": [
       "   user_id  age  sex  user_lv_cd  is_buy\n",
       "0        1    3    2           3     1.0\n",
       "1        2    3    2           3     0.0\n",
       "2        3    3    0           5     0.0\n",
       "3        4    3    2           3     0.0\n",
       "4        5    4    2           2     0.0"
      ]
     },
     "execution_count": 48,
     "metadata": {},
     "output_type": "execute_result"
    }
   ],
   "source": [
    "userInfo_isBuy_label1.head()"
   ]
  },
  {
   "cell_type": "code",
   "execution_count": 49,
   "metadata": {},
   "outputs": [
    {
     "data": {
      "text/html": [
       "<div>\n",
       "<style scoped>\n",
       "    .dataframe tbody tr th:only-of-type {\n",
       "        vertical-align: middle;\n",
       "    }\n",
       "\n",
       "    .dataframe tbody tr th {\n",
       "        vertical-align: top;\n",
       "    }\n",
       "\n",
       "    .dataframe thead th {\n",
       "        text-align: right;\n",
       "    }\n",
       "</style>\n",
       "<table border=\"1\" class=\"dataframe\">\n",
       "  <thead>\n",
       "    <tr style=\"text-align: right;\">\n",
       "      <th></th>\n",
       "      <th>user_id</th>\n",
       "      <th>sku_id</th>\n",
       "      <th>o_id</th>\n",
       "      <th>o_date</th>\n",
       "      <th>o_area</th>\n",
       "      <th>o_sku_num</th>\n",
       "      <th>comment_create_tm</th>\n",
       "      <th>score_level</th>\n",
       "    </tr>\n",
       "  </thead>\n",
       "  <tbody>\n",
       "    <tr>\n",
       "      <th>0</th>\n",
       "      <td>1</td>\n",
       "      <td>80036</td>\n",
       "      <td>480066</td>\n",
       "      <td>2017-03-09</td>\n",
       "      <td>14</td>\n",
       "      <td>1</td>\n",
       "      <td>NaT</td>\n",
       "      <td>NaN</td>\n",
       "    </tr>\n",
       "    <tr>\n",
       "      <th>1</th>\n",
       "      <td>1</td>\n",
       "      <td>16607</td>\n",
       "      <td>106933</td>\n",
       "      <td>2017-01-12</td>\n",
       "      <td>14</td>\n",
       "      <td>1</td>\n",
       "      <td>NaT</td>\n",
       "      <td>NaN</td>\n",
       "    </tr>\n",
       "    <tr>\n",
       "      <th>2</th>\n",
       "      <td>1</td>\n",
       "      <td>80036</td>\n",
       "      <td>542604</td>\n",
       "      <td>2017-04-14</td>\n",
       "      <td>14</td>\n",
       "      <td>1</td>\n",
       "      <td>NaT</td>\n",
       "      <td>NaN</td>\n",
       "    </tr>\n",
       "    <tr>\n",
       "      <th>3</th>\n",
       "      <td>1</td>\n",
       "      <td>80036</td>\n",
       "      <td>196335</td>\n",
       "      <td>2017-04-30</td>\n",
       "      <td>14</td>\n",
       "      <td>1</td>\n",
       "      <td>NaT</td>\n",
       "      <td>NaN</td>\n",
       "    </tr>\n",
       "    <tr>\n",
       "      <th>4</th>\n",
       "      <td>1</td>\n",
       "      <td>80036</td>\n",
       "      <td>42502</td>\n",
       "      <td>2017-03-22</td>\n",
       "      <td>14</td>\n",
       "      <td>2</td>\n",
       "      <td>NaT</td>\n",
       "      <td>NaN</td>\n",
       "    </tr>\n",
       "  </tbody>\n",
       "</table>\n",
       "</div>"
      ],
      "text/plain": [
       "   user_id  sku_id    o_id     o_date  o_area  o_sku_num comment_create_tm  \\\n",
       "0        1   80036  480066 2017-03-09      14          1               NaT   \n",
       "1        1   16607  106933 2017-01-12      14          1               NaT   \n",
       "2        1   80036  542604 2017-04-14      14          1               NaT   \n",
       "3        1   80036  196335 2017-04-30      14          1               NaT   \n",
       "4        1   80036   42502 2017-03-22      14          2               NaT   \n",
       "\n",
       "   score_level  \n",
       "0          NaN  \n",
       "1          NaN  \n",
       "2          NaN  \n",
       "3          NaN  \n",
       "4          NaN  "
      ]
     },
     "execution_count": 49,
     "metadata": {},
     "output_type": "execute_result"
    }
   ],
   "source": [
    "order_comment = user_order.merge(user_comment, on=[\"user_id\", \"o_id\"], how=\"left\")\n",
    "order_comment.head()"
   ]
  },
  {
   "cell_type": "code",
   "execution_count": 50,
   "metadata": {},
   "outputs": [],
   "source": [
    "#用来提取训练集的数据集\n",
    "T_action_data1 = user_action[(user_action[\"a_date\"]>=pd.to_datetime(\"20161101\"))&(user_action[\"a_date\"]<=pd.to_datetime(\"20170228\"))]\n",
    "T_action_data2 = user_action[(user_action[\"a_date\"]>=pd.to_datetime(\"20161001\"))&(user_action[\"a_date\"]<=pd.to_datetime(\"20170128\"))]\n",
    "T_action_data3 = user_action[(user_action[\"a_date\"]>=pd.to_datetime(\"20160901\"))&(user_action[\"a_date\"]<=pd.to_datetime(\"20161130\"))]\n",
    "\n",
    "order_comment = user_order.merge(user_comment, on=[\"o_id\"], how=\"left\")\n",
    "\n",
    "T_order_comment_data1 = order_comment[(order_comment[\"o_date\"]>=pd.to_datetime(\"20161101\"))&(order_comment[\"o_date\"]<=pd.to_datetime(\"20170228\"))]\n",
    "T_order_comment_data2 = order_comment[(order_comment[\"o_date\"]>=pd.to_datetime(\"20161001\"))&(order_comment[\"o_date\"]<=pd.to_datetime(\"20170128\"))]\n",
    "T_order_comment_data3 = order_comment[(order_comment[\"o_date\"]>=pd.to_datetime(\"20160901\"))&(order_comment[\"o_date\"]<=pd.to_datetime(\"20161130\"))]"
   ]
  },
  {
   "cell_type": "code",
   "execution_count": 51,
   "metadata": {},
   "outputs": [],
   "source": [
    "#基本属性特征(包括用户基本属性和商品基本属性)"
   ]
  },
  {
   "cell_type": "code",
   "execution_count": 52,
   "metadata": {},
   "outputs": [],
   "source": [
    "import matplotlib.pyplot as plt"
   ]
  },
  {
   "cell_type": "code",
   "execution_count": 53,
   "metadata": {},
   "outputs": [],
   "source": [
    "###***特征和标签值（分类问题可化为标签的个数）的关系\n",
    "def feature_label_relev(data, feature, label):\n",
    "    feature_label_num = data.groupby(feature)[label].mean().reset_index().rename(columns={label:feature+\"_\"+\"_\"+label+\"_\"+\"num\"})\n",
    "    plt.scatter(feature_label_num[feature], feature_label_num[feature+\"_\"+\"_\"+label+\"_\"+\"num\"])\n",
    "    plt.title(str(feature))\n",
    "    plt.xlabel(feature)\n",
    "    plt.ylabel(feature+\"_\"+\"_\"+label+\"_\"+\"num\")\n",
    "    plt.show()"
   ]
  },
  {
   "cell_type": "raw",
   "metadata": {},
   "source": [
    "结论：age,sex,user_lv_cd这几个特征对下一个月再购买率有较大影响"
   ]
  },
  {
   "cell_type": "code",
   "execution_count": 54,
   "metadata": {},
   "outputs": [],
   "source": [
    "#行为特征"
   ]
  },
  {
   "cell_type": "code",
   "execution_count": 55,
   "metadata": {},
   "outputs": [
    {
     "data": {
      "text/html": [
       "<div>\n",
       "<style scoped>\n",
       "    .dataframe tbody tr th:only-of-type {\n",
       "        vertical-align: middle;\n",
       "    }\n",
       "\n",
       "    .dataframe tbody tr th {\n",
       "        vertical-align: top;\n",
       "    }\n",
       "\n",
       "    .dataframe thead th {\n",
       "        text-align: right;\n",
       "    }\n",
       "</style>\n",
       "<table border=\"1\" class=\"dataframe\">\n",
       "  <thead>\n",
       "    <tr style=\"text-align: right;\">\n",
       "      <th></th>\n",
       "      <th>user_id</th>\n",
       "      <th>sku_id</th>\n",
       "      <th>a_date</th>\n",
       "      <th>a_num</th>\n",
       "      <th>a_type</th>\n",
       "    </tr>\n",
       "  </thead>\n",
       "  <tbody>\n",
       "    <tr>\n",
       "      <th>1</th>\n",
       "      <td>1</td>\n",
       "      <td>96959</td>\n",
       "      <td>2017-01-12</td>\n",
       "      <td>2</td>\n",
       "      <td>1</td>\n",
       "    </tr>\n",
       "    <tr>\n",
       "      <th>4</th>\n",
       "      <td>1</td>\n",
       "      <td>16607</td>\n",
       "      <td>2017-01-12</td>\n",
       "      <td>3</td>\n",
       "      <td>1</td>\n",
       "    </tr>\n",
       "    <tr>\n",
       "      <th>5</th>\n",
       "      <td>1</td>\n",
       "      <td>16607</td>\n",
       "      <td>2017-02-12</td>\n",
       "      <td>2</td>\n",
       "      <td>1</td>\n",
       "    </tr>\n",
       "    <tr>\n",
       "      <th>19</th>\n",
       "      <td>3</td>\n",
       "      <td>2922</td>\n",
       "      <td>2016-12-08</td>\n",
       "      <td>4</td>\n",
       "      <td>1</td>\n",
       "    </tr>\n",
       "    <tr>\n",
       "      <th>23</th>\n",
       "      <td>3</td>\n",
       "      <td>11366</td>\n",
       "      <td>2017-02-20</td>\n",
       "      <td>1</td>\n",
       "      <td>1</td>\n",
       "    </tr>\n",
       "  </tbody>\n",
       "</table>\n",
       "</div>"
      ],
      "text/plain": [
       "    user_id  sku_id     a_date  a_num  a_type\n",
       "1         1   96959 2017-01-12      2       1\n",
       "4         1   16607 2017-01-12      3       1\n",
       "5         1   16607 2017-02-12      2       1\n",
       "19        3    2922 2016-12-08      4       1\n",
       "23        3   11366 2017-02-20      1       1"
      ]
     },
     "execution_count": 55,
     "metadata": {},
     "output_type": "execute_result"
    }
   ],
   "source": [
    "T_action_data1.head()"
   ]
  },
  {
   "cell_type": "code",
   "execution_count": 56,
   "metadata": {},
   "outputs": [
    {
     "data": {
      "text/html": [
       "<div>\n",
       "<style scoped>\n",
       "    .dataframe tbody tr th:only-of-type {\n",
       "        vertical-align: middle;\n",
       "    }\n",
       "\n",
       "    .dataframe tbody tr th {\n",
       "        vertical-align: top;\n",
       "    }\n",
       "\n",
       "    .dataframe thead th {\n",
       "        text-align: right;\n",
       "    }\n",
       "</style>\n",
       "<table border=\"1\" class=\"dataframe\">\n",
       "  <thead>\n",
       "    <tr style=\"text-align: right;\">\n",
       "      <th></th>\n",
       "      <th>user_id</th>\n",
       "      <th>age</th>\n",
       "      <th>sex</th>\n",
       "      <th>user_lv_cd</th>\n",
       "      <th>is_buy</th>\n",
       "    </tr>\n",
       "  </thead>\n",
       "  <tbody>\n",
       "    <tr>\n",
       "      <th>0</th>\n",
       "      <td>1</td>\n",
       "      <td>3</td>\n",
       "      <td>2</td>\n",
       "      <td>3</td>\n",
       "      <td>1.0</td>\n",
       "    </tr>\n",
       "    <tr>\n",
       "      <th>1</th>\n",
       "      <td>2</td>\n",
       "      <td>3</td>\n",
       "      <td>2</td>\n",
       "      <td>3</td>\n",
       "      <td>0.0</td>\n",
       "    </tr>\n",
       "    <tr>\n",
       "      <th>2</th>\n",
       "      <td>3</td>\n",
       "      <td>3</td>\n",
       "      <td>0</td>\n",
       "      <td>5</td>\n",
       "      <td>0.0</td>\n",
       "    </tr>\n",
       "    <tr>\n",
       "      <th>3</th>\n",
       "      <td>4</td>\n",
       "      <td>3</td>\n",
       "      <td>2</td>\n",
       "      <td>3</td>\n",
       "      <td>0.0</td>\n",
       "    </tr>\n",
       "    <tr>\n",
       "      <th>4</th>\n",
       "      <td>5</td>\n",
       "      <td>4</td>\n",
       "      <td>2</td>\n",
       "      <td>2</td>\n",
       "      <td>0.0</td>\n",
       "    </tr>\n",
       "  </tbody>\n",
       "</table>\n",
       "</div>"
      ],
      "text/plain": [
       "   user_id  age  sex  user_lv_cd  is_buy\n",
       "0        1    3    2           3     1.0\n",
       "1        2    3    2           3     0.0\n",
       "2        3    3    0           5     0.0\n",
       "3        4    3    2           3     0.0\n",
       "4        5    4    2           2     0.0"
      ]
     },
     "execution_count": 56,
     "metadata": {},
     "output_type": "execute_result"
    }
   ],
   "source": [
    "userInfo_isBuy_label1.head()"
   ]
  },
  {
   "cell_type": "code",
   "execution_count": 57,
   "metadata": {},
   "outputs": [
    {
     "data": {
      "text/html": [
       "<div>\n",
       "<style scoped>\n",
       "    .dataframe tbody tr th:only-of-type {\n",
       "        vertical-align: middle;\n",
       "    }\n",
       "\n",
       "    .dataframe tbody tr th {\n",
       "        vertical-align: top;\n",
       "    }\n",
       "\n",
       "    .dataframe thead th {\n",
       "        text-align: right;\n",
       "    }\n",
       "</style>\n",
       "<table border=\"1\" class=\"dataframe\">\n",
       "  <thead>\n",
       "    <tr style=\"text-align: right;\">\n",
       "      <th></th>\n",
       "      <th>sku_id</th>\n",
       "      <th>price</th>\n",
       "      <th>cate</th>\n",
       "      <th>para_1</th>\n",
       "      <th>para_2</th>\n",
       "      <th>para_3</th>\n",
       "    </tr>\n",
       "  </thead>\n",
       "  <tbody>\n",
       "    <tr>\n",
       "      <th>0</th>\n",
       "      <td>1</td>\n",
       "      <td>364.2</td>\n",
       "      <td>71</td>\n",
       "      <td>247.95</td>\n",
       "      <td>-1</td>\n",
       "      <td>-1</td>\n",
       "    </tr>\n",
       "    <tr>\n",
       "      <th>1</th>\n",
       "      <td>2</td>\n",
       "      <td>36.7</td>\n",
       "      <td>46</td>\n",
       "      <td>6.40</td>\n",
       "      <td>-1</td>\n",
       "      <td>-1</td>\n",
       "    </tr>\n",
       "    <tr>\n",
       "      <th>2</th>\n",
       "      <td>3</td>\n",
       "      <td>953.3</td>\n",
       "      <td>71</td>\n",
       "      <td>178.92</td>\n",
       "      <td>-1</td>\n",
       "      <td>-1</td>\n",
       "    </tr>\n",
       "    <tr>\n",
       "      <th>3</th>\n",
       "      <td>4</td>\n",
       "      <td>110.6</td>\n",
       "      <td>83</td>\n",
       "      <td>6366.88</td>\n",
       "      <td>-1</td>\n",
       "      <td>-1</td>\n",
       "    </tr>\n",
       "    <tr>\n",
       "      <th>4</th>\n",
       "      <td>5</td>\n",
       "      <td>241.5</td>\n",
       "      <td>71</td>\n",
       "      <td>31.74</td>\n",
       "      <td>-1</td>\n",
       "      <td>-1</td>\n",
       "    </tr>\n",
       "  </tbody>\n",
       "</table>\n",
       "</div>"
      ],
      "text/plain": [
       "   sku_id  price  cate   para_1  para_2  para_3\n",
       "0       1  364.2    71   247.95      -1      -1\n",
       "1       2   36.7    46     6.40      -1      -1\n",
       "2       3  953.3    71   178.92      -1      -1\n",
       "3       4  110.6    83  6366.88      -1      -1\n",
       "4       5  241.5    71    31.74      -1      -1"
      ]
     },
     "execution_count": 57,
     "metadata": {},
     "output_type": "execute_result"
    }
   ],
   "source": [
    "sku_info.head()"
   ]
  },
  {
   "cell_type": "code",
   "execution_count": 64,
   "metadata": {},
   "outputs": [],
   "source": [
    "d_user_action = T_action_data1\n",
    "user_info_is_buy_label = userInfo_isBuy_label1\n",
    "\n",
    "d_user_action_info = d_user_action.merge(sku_info[[\"sku_id\", \"price\", \"cate\", \"para_1\"]], on=\"sku_id\", how=\"left\")\n",
    "\n",
    "#求出现次数最多的类型\n",
    "def get_maxVal(row):\n",
    "    return row.mode()[0]\n",
    "def get_maxNum(row):\n",
    "    return max(row)\n",
    "\n",
    "def action_egg(d_user_action, user_info_is_buy_label, sku_info):\n",
    "    for feature in d_user_action_info.columns.values:\n",
    "        print(feature)\n",
    "        if feature in [\"a_num\", \"price\", \"para_1\"]:\n",
    "            action_feature_1 = d_user_action_info.groupby(\"user_id\")[feature].sum().reset_index().rename(columns={feature:feature+\"_\"+\"sum\"})\n",
    "            action_feature_2 = d_user_action_info.groupby(\"user_id\")[feature].mean().reset_index().rename(columns={feature:feature+\"_\"+\"mean\"})\n",
    "            action_feature_3 = d_user_action_info.groupby(\"user_id\")[feature].max().reset_index().rename(columns={feature:feature+\"_\"+\"max\"})\n",
    "            action_feature_4 = d_user_action_info.groupby(\"user_id\")[feature].min().reset_index().rename(columns={feature:feature+\"_\"+\"min\"})\n",
    "            action_feature_5 = d_user_action_info.groupby(\"user_id\")[feature].median().reset_index().rename(columns={feature:feature+\"_\"+\"median\"})\n",
    "\n",
    "            d_user_action_info_atype1 = d_user_action_info[d_user_action_info[\"a_type\"]==1]\n",
    "            action_feature_6 = d_user_action_info_atype1.groupby(\"user_id\")[feature].sum().reset_index().rename(columns={feature:feature+\"_\"+\"a_type1_sum\"})\n",
    "            action_feature_7 = d_user_action_info_atype1.groupby(\"user_id\")[feature].mean().reset_index().rename(columns={feature:feature+\"_\"+\"a_type1_mean\"})\n",
    "            action_feature_8 = d_user_action_info_atype1.groupby(\"user_id\")[feature].max().reset_index().rename(columns={feature:feature+\"_\"+\"a_type1_max\"})\n",
    "            action_feature_9 = d_user_action_info_atype1.groupby(\"user_id\")[feature].min().reset_index().rename(columns={feature:feature+\"_\"+\"a_type1_min\"})\n",
    "            action_feature_10 = d_user_action_info_atype1.groupby(\"user_id\")[feature].median().reset_index().rename(columns={feature:feature+\"_\"+\"a_type1_median\"})\n",
    "\n",
    "            d_user_action_info_atype2 = d_user_action_info[d_user_action_info[\"a_type\"]==2]\n",
    "            action_feature_11 = d_user_action_info_atype2.groupby(\"user_id\")[feature].sum().reset_index().rename(columns={feature:feature+\"_\"+\"a_type2_sum\"})\n",
    "            action_feature_12 = d_user_action_info_atype2.groupby(\"user_id\")[feature].mean().reset_index().rename(columns={feature:feature+\"_\"+\"a_type2_mean\"})\n",
    "            action_feature_13 = d_user_action_info_atype2.groupby(\"user_id\")[feature].max().reset_index().rename(columns={feature:feature+\"_\"+\"a_type2_max\"})\n",
    "            action_feature_14 = d_user_action_info_atype2.groupby(\"user_id\")[feature].min().reset_index().rename(columns={feature:feature+\"_\"+\"a_type2_min\"})\n",
    "            action_feature_15 = d_user_action_info_atype2.groupby(\"user_id\")[feature].median().reset_index().rename(columns={feature:feature+\"_\"+\"a_type2_median\"})\n",
    "\n",
    "            action_features = user_info_is_buy_label.merge(action_feature_1, on=\"user_id\", how=\"left\").fillna(-1)\n",
    "            action_features = action_features.merge(action_feature_2, on=\"user_id\", how=\"left\").fillna(-1)\n",
    "            action_features = action_features.merge(action_feature_3, on=\"user_id\", how=\"left\").fillna(-1)\n",
    "            action_features = action_features.merge(action_feature_4, on=\"user_id\", how=\"left\").fillna(-1)\n",
    "            action_features = action_features.merge(action_feature_5, on=\"user_id\", how=\"left\").fillna(-1)\n",
    "            action_features = action_features.merge(action_feature_6, on=\"user_id\", how=\"left\").fillna(-1)\n",
    "            action_features = action_features.merge(action_feature_7, on=\"user_id\", how=\"left\").fillna(-1)\n",
    "            action_features = action_features.merge(action_feature_8, on=\"user_id\", how=\"left\").fillna(-1)\n",
    "            action_features = action_features.merge(action_feature_9, on=\"user_id\", how=\"left\").fillna(-1)\n",
    "            action_features = action_features.merge(action_feature_10, on=\"user_id\", how=\"left\").fillna(-1)\n",
    "            action_features = action_features.merge(action_feature_11, on=\"user_id\", how=\"left\").fillna(-1)\n",
    "            action_features = action_features.merge(action_feature_12, on=\"user_id\", how=\"left\").fillna(-1)\n",
    "            action_features = action_features.merge(action_feature_13, on=\"user_id\", how=\"left\").fillna(-1)\n",
    "            action_features = action_features.merge(action_feature_14, on=\"user_id\", how=\"left\").fillna(-1)\n",
    "            action_features = action_features.merge(action_feature_15, on=\"user_id\", how=\"left\").fillna(-1)\n",
    "            \n",
    "        if feature in [\"sku_id\", \"a_type\", \"cate\"]:\n",
    "            action_feature_16 = d_user_action_info.groupby(\"user_id\")[feature].nunique().reset_index().rename(columns={feature:feature+\"_nunique\"})\n",
    "            action_feature_17 = d_user_action_info.groupby(\"user_id\")[feature].apply(get_maxVal).reset_index().rename(columns={feature:feature+\"_maxVal\"})\n",
    "            action_feature_18 = d_user_action_info.groupby(\"user_id\")[feature].apply(get_maxNum).reset_index().rename(columns={feature:feature+\"_maxNum\"})\n",
    "            \n",
    "            action_features = user_info_is_buy_label.merge(action_feature_16, on=\"user_id\", how=\"left\").fillna(-1)\n",
    "            action_features = action_features.merge(action_feature_17, on=\"user_id\", how=\"left\").fillna(-1)\n",
    "            action_features = action_features.merge(action_feature_18, on=\"user_id\", how=\"left\").fillna(-1)\n",
    "        \n",
    "        \n",
    "\n",
    "    return action_features"
   ]
  },
  {
   "cell_type": "code",
   "execution_count": 65,
   "metadata": {},
   "outputs": [
    {
     "name": "stdout",
     "output_type": "stream",
     "text": [
      "user_id\n",
      "sku_id\n",
      "a_date\n",
      "a_num\n",
      "a_type\n",
      "price\n",
      "cate\n",
      "para_1\n"
     ]
    }
   ],
   "source": [
    "action_features = action_egg(d_user_action, user_info_is_buy_label, sku_info)"
   ]
  },
  {
   "cell_type": "code",
   "execution_count": 66,
   "metadata": {},
   "outputs": [
    {
     "data": {
      "text/html": [
       "<div>\n",
       "<style scoped>\n",
       "    .dataframe tbody tr th:only-of-type {\n",
       "        vertical-align: middle;\n",
       "    }\n",
       "\n",
       "    .dataframe tbody tr th {\n",
       "        vertical-align: top;\n",
       "    }\n",
       "\n",
       "    .dataframe thead th {\n",
       "        text-align: right;\n",
       "    }\n",
       "</style>\n",
       "<table border=\"1\" class=\"dataframe\">\n",
       "  <thead>\n",
       "    <tr style=\"text-align: right;\">\n",
       "      <th></th>\n",
       "      <th>user_id</th>\n",
       "      <th>age</th>\n",
       "      <th>sex</th>\n",
       "      <th>user_lv_cd</th>\n",
       "      <th>is_buy</th>\n",
       "      <th>para_1_sum</th>\n",
       "      <th>para_1_mean</th>\n",
       "      <th>para_1_max</th>\n",
       "      <th>para_1_min</th>\n",
       "      <th>para_1_median</th>\n",
       "      <th>para_1_a_type1_sum</th>\n",
       "      <th>para_1_a_type1_mean</th>\n",
       "      <th>para_1_a_type1_max</th>\n",
       "      <th>para_1_a_type1_min</th>\n",
       "      <th>para_1_a_type1_median</th>\n",
       "      <th>para_1_a_type2_sum</th>\n",
       "      <th>para_1_a_type2_mean</th>\n",
       "      <th>para_1_a_type2_max</th>\n",
       "      <th>para_1_a_type2_min</th>\n",
       "      <th>para_1_a_type2_median</th>\n",
       "    </tr>\n",
       "  </thead>\n",
       "  <tbody>\n",
       "    <tr>\n",
       "      <th>0</th>\n",
       "      <td>1</td>\n",
       "      <td>3</td>\n",
       "      <td>2</td>\n",
       "      <td>3</td>\n",
       "      <td>1.0</td>\n",
       "      <td>968.40</td>\n",
       "      <td>322.800000</td>\n",
       "      <td>442.63</td>\n",
       "      <td>83.14</td>\n",
       "      <td>442.63</td>\n",
       "      <td>968.40</td>\n",
       "      <td>322.800000</td>\n",
       "      <td>442.63</td>\n",
       "      <td>83.14</td>\n",
       "      <td>442.63</td>\n",
       "      <td>-1.00</td>\n",
       "      <td>-1.000000</td>\n",
       "      <td>-1.00</td>\n",
       "      <td>-1.00</td>\n",
       "      <td>-1.00</td>\n",
       "    </tr>\n",
       "    <tr>\n",
       "      <th>1</th>\n",
       "      <td>2</td>\n",
       "      <td>3</td>\n",
       "      <td>2</td>\n",
       "      <td>3</td>\n",
       "      <td>0.0</td>\n",
       "      <td>-1.00</td>\n",
       "      <td>-1.000000</td>\n",
       "      <td>-1.00</td>\n",
       "      <td>-1.00</td>\n",
       "      <td>-1.00</td>\n",
       "      <td>-1.00</td>\n",
       "      <td>-1.000000</td>\n",
       "      <td>-1.00</td>\n",
       "      <td>-1.00</td>\n",
       "      <td>-1.00</td>\n",
       "      <td>-1.00</td>\n",
       "      <td>-1.000000</td>\n",
       "      <td>-1.00</td>\n",
       "      <td>-1.00</td>\n",
       "      <td>-1.00</td>\n",
       "    </tr>\n",
       "    <tr>\n",
       "      <th>2</th>\n",
       "      <td>3</td>\n",
       "      <td>3</td>\n",
       "      <td>0</td>\n",
       "      <td>5</td>\n",
       "      <td>0.0</td>\n",
       "      <td>6203.89</td>\n",
       "      <td>103.398167</td>\n",
       "      <td>678.35</td>\n",
       "      <td>3.95</td>\n",
       "      <td>18.42</td>\n",
       "      <td>5222.82</td>\n",
       "      <td>91.628421</td>\n",
       "      <td>678.35</td>\n",
       "      <td>3.95</td>\n",
       "      <td>17.09</td>\n",
       "      <td>981.07</td>\n",
       "      <td>327.023333</td>\n",
       "      <td>678.35</td>\n",
       "      <td>143.66</td>\n",
       "      <td>159.06</td>\n",
       "    </tr>\n",
       "    <tr>\n",
       "      <th>3</th>\n",
       "      <td>4</td>\n",
       "      <td>3</td>\n",
       "      <td>2</td>\n",
       "      <td>3</td>\n",
       "      <td>0.0</td>\n",
       "      <td>895.50</td>\n",
       "      <td>179.100000</td>\n",
       "      <td>393.50</td>\n",
       "      <td>41.27</td>\n",
       "      <td>156.65</td>\n",
       "      <td>895.50</td>\n",
       "      <td>179.100000</td>\n",
       "      <td>393.50</td>\n",
       "      <td>41.27</td>\n",
       "      <td>156.65</td>\n",
       "      <td>-1.00</td>\n",
       "      <td>-1.000000</td>\n",
       "      <td>-1.00</td>\n",
       "      <td>-1.00</td>\n",
       "      <td>-1.00</td>\n",
       "    </tr>\n",
       "    <tr>\n",
       "      <th>4</th>\n",
       "      <td>5</td>\n",
       "      <td>4</td>\n",
       "      <td>2</td>\n",
       "      <td>2</td>\n",
       "      <td>0.0</td>\n",
       "      <td>-1.00</td>\n",
       "      <td>-1.000000</td>\n",
       "      <td>-1.00</td>\n",
       "      <td>-1.00</td>\n",
       "      <td>-1.00</td>\n",
       "      <td>-1.00</td>\n",
       "      <td>-1.000000</td>\n",
       "      <td>-1.00</td>\n",
       "      <td>-1.00</td>\n",
       "      <td>-1.00</td>\n",
       "      <td>-1.00</td>\n",
       "      <td>-1.000000</td>\n",
       "      <td>-1.00</td>\n",
       "      <td>-1.00</td>\n",
       "      <td>-1.00</td>\n",
       "    </tr>\n",
       "  </tbody>\n",
       "</table>\n",
       "</div>"
      ],
      "text/plain": [
       "   user_id  age  sex  user_lv_cd  is_buy  para_1_sum  para_1_mean  para_1_max  \\\n",
       "0        1    3    2           3     1.0      968.40   322.800000      442.63   \n",
       "1        2    3    2           3     0.0       -1.00    -1.000000       -1.00   \n",
       "2        3    3    0           5     0.0     6203.89   103.398167      678.35   \n",
       "3        4    3    2           3     0.0      895.50   179.100000      393.50   \n",
       "4        5    4    2           2     0.0       -1.00    -1.000000       -1.00   \n",
       "\n",
       "   para_1_min  para_1_median  para_1_a_type1_sum  para_1_a_type1_mean  \\\n",
       "0       83.14         442.63              968.40           322.800000   \n",
       "1       -1.00          -1.00               -1.00            -1.000000   \n",
       "2        3.95          18.42             5222.82            91.628421   \n",
       "3       41.27         156.65              895.50           179.100000   \n",
       "4       -1.00          -1.00               -1.00            -1.000000   \n",
       "\n",
       "   para_1_a_type1_max  para_1_a_type1_min  para_1_a_type1_median  \\\n",
       "0              442.63               83.14                 442.63   \n",
       "1               -1.00               -1.00                  -1.00   \n",
       "2              678.35                3.95                  17.09   \n",
       "3              393.50               41.27                 156.65   \n",
       "4               -1.00               -1.00                  -1.00   \n",
       "\n",
       "   para_1_a_type2_sum  para_1_a_type2_mean  para_1_a_type2_max  \\\n",
       "0               -1.00            -1.000000               -1.00   \n",
       "1               -1.00            -1.000000               -1.00   \n",
       "2              981.07           327.023333              678.35   \n",
       "3               -1.00            -1.000000               -1.00   \n",
       "4               -1.00            -1.000000               -1.00   \n",
       "\n",
       "   para_1_a_type2_min  para_1_a_type2_median  \n",
       "0               -1.00                  -1.00  \n",
       "1               -1.00                  -1.00  \n",
       "2              143.66                 159.06  \n",
       "3               -1.00                  -1.00  \n",
       "4               -1.00                  -1.00  "
      ]
     },
     "execution_count": 66,
     "metadata": {},
     "output_type": "execute_result"
    }
   ],
   "source": [
    "action_features.head()"
   ]
  },
  {
   "cell_type": "code",
   "execution_count": 60,
   "metadata": {},
   "outputs": [],
   "source": [
    "#订单评论特征"
   ]
  },
  {
   "cell_type": "code",
   "execution_count": null,
   "metadata": {},
   "outputs": [],
   "source": []
  }
 ],
 "metadata": {
  "kernelspec": {
   "display_name": "Python 3",
   "language": "python",
   "name": "python3"
  },
  "language_info": {
   "codemirror_mode": {
    "name": "ipython",
    "version": 3
   },
   "file_extension": ".py",
   "mimetype": "text/x-python",
   "name": "python",
   "nbconvert_exporter": "python",
   "pygments_lexer": "ipython3",
   "version": "3.7.3"
  }
 },
 "nbformat": 4,
 "nbformat_minor": 2
}
