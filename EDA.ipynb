print("唯一user_id个数")
print("唯一sku_id个数")
print("shape of user_action")

print("shape of user_order")
print("shape of user_comment")
